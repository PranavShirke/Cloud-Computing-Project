{
 "cells": [
  {
   "cell_type": "markdown",
   "metadata": {},
   "source": [
    "# Cloud Computing Group-4\n"
   ]
  },
  {
   "cell_type": "markdown",
   "metadata": {},
   "source": [
    "#### Read Function definition"
   ]
  },
  {
   "cell_type": "code",
   "execution_count": null,
   "metadata": {},
   "outputs": [],
   "source": [
    "import networkx.algorithms.approximation\n",
    "import networkx as nx\n",
    "\n",
    "def read_network(filename = 'as19971108.txt'):\n",
    "    G = nx.Graph()\n",
    "    i =  0\n",
    "    print('Reading file {filename}'.format(filename=filename))\n",
    "    with open(filename, 'r') as f:\n",
    "        for line in f.readlines()[4:]:\n",
    "            edge = line.replace(\"\\n\",\"\").split(\"\\t\")\n",
    "            if edge[0] != edge[1]:\n",
    "                G.add_edge(edge[0],edge[1],weight = random.random())\n",
    "    print('New network generated')\n",
    "    return G\n",
    "    "
   ]
  },
  {
   "cell_type": "markdown",
   "metadata": {},
   "source": [
    "#### Random Tree Generator"
   ]
  },
  {
   "cell_type": "code",
   "execution_count": null,
   "metadata": {},
   "outputs": [],
   "source": [
    "import random\n",
    "\n",
    "def get_weight(edge, network):\n",
    "    weight = network[edge[0]][edge[1]]['weight']\n",
    "    return weight\n",
    "\n",
    "def validate_graph(graph, network):\n",
    "    if len(graph.nodes()) != len(network.nodes()):\n",
    "        return False\n",
    "    for edge in graph.edges:\n",
    "        if edge not in network.edges:\n",
    "            return False\n",
    "    return nx.is_connected(graph)\n",
    "\n",
    "# Tree validation function\n",
    "def validate_tree(tree, network):\n",
    "    if not validate_graph(tree, network):\n",
    "        return False\n",
    "    if len(nx.nx.cycle_basis(tree)) > 0:\n",
    "        return False\n",
    "    return True\n",
    "\n",
    "def random_spanning_tree_generator(network, n_trees=20):\n",
    "    print('generating {n_trees} random spanning trees'.format(n_trees=n_trees))\n",
    "    nodes = network.nodes()\n",
    "    trees = []\n",
    "    while(len(trees) < n_trees):\n",
    "        tree = nx.Graph()\n",
    "        next_nodes = [random.choice(list(nodes))]\n",
    "        while len(next_nodes)>0:\n",
    "            edges = network.edges(next_nodes.pop())\n",
    "            edges = list(edges)\n",
    "            random.shuffle(edges)\n",
    "            for edge in edges:\n",
    "                if edge[1] not in tree.nodes():\n",
    "                    tree.add_edge(edge[0],edge[1],weight=get_weight(edge, network))\n",
    "                    next_nodes.append(edge[1])\n",
    "        if validate_tree(tree, network):\n",
    "            trees.append(tree)\n",
    "    print('Done!')\n",
    "    return trees\n",
    "                \n",
    "        \n",
    "        "
   ]
  },
  {
   "cell_type": "markdown",
   "metadata": {},
   "source": [
    "#### Fitness Function"
   ]
  },
  {
   "cell_type": "code",
   "execution_count": null,
   "metadata": {},
   "outputs": [],
   "source": [
    "def fitness_function(G):\n",
    "    cost = 0\n",
    "    for edge in G.edges():\n",
    "        cost += get_weight(edge, G)\n",
    "    for node in list(G.nodes()):\n",
    "        cost  += G.degree(node)\n",
    "    return cost"
   ]
  },
  {
   "cell_type": "markdown",
   "metadata": {},
   "source": [
    "#### Chromosome graph representation"
   ]
  },
  {
   "cell_type": "code",
   "execution_count": null,
   "metadata": {},
   "outputs": [],
   "source": [
    "import numpy as np\n",
    "def get_chromosome(graph, network_edges):\n",
    "    return [edge in graph.edges for edge in network_edges]\n",
    "\n",
    "def get_graph(chromosome, network_edges, network):\n",
    "    G = nx.Graph()\n",
    "    network_edges_list = np.array(list(network_edges))\n",
    "    edges = network_edges_list[chromosome]\n",
    "    for edge in edges:\n",
    "        G.add_edge(edge[0], edge[1], weight=get_weight(edge, network))\n",
    "    return G\n",
    "    "
   ]
  },
  {
   "cell_type": "markdown",
   "metadata": {},
   "source": [
    "#### Get Child function"
   ]
  },
  {
   "cell_type": "code",
   "execution_count": null,
   "metadata": {},
   "outputs": [],
   "source": [
    "def crossover(gen1, gen2, network_edges, network):\n",
    "    child_1 = gen1.copy()\n",
    "    child_2 = gen1.copy()\n",
    "    gen_crossover_sample = random.sample(range(len(gen1)), int(len(gen1)*0.5))\n",
    "    for i in range(len(gen1)):\n",
    "        if i in gen_crossover_sample:\n",
    "            aux = child_1[i]\n",
    "            child_1[i] = child_2[i]\n",
    "            child_2[i] = aux\n",
    "    if fitness_function(get_graph(child_1, network_edges, network)) > fitness_function(get_graph(child_1, network_edges, network)):\n",
    "        return child_1\n",
    "    return child_2\n",
    "\n",
    "def mutation(gen):\n",
    "    child = gen.copy()\n",
    "    gen_crossover_sample = random.sample(range(len(gen)), int(len(gen)*0.05))\n",
    "    for i in range(len(gen)):\n",
    "        if i in gen_crossover_sample:\n",
    "            child[i] = not child[i]\n",
    "    return child\n",
    "\n",
    "iterator = 0\n",
    "\n",
    "def get_child(parents, network_edges, network):\n",
    "    global iterator\n",
    "    child_found = False\n",
    "    while (not child_found):\n",
    "        if iterator % 11 == 0:\n",
    "            parent = get_chromosome(random.choice(parents), network_edges)\n",
    "            child = get_graph(mutation(parent), network_edges, network)\n",
    "            if validate_graph(child,network):\n",
    "                child_found = True\n",
    "        else:\n",
    "            parent1 = get_chromosome(random.choice(parents), network_edges)\n",
    "            parent2 = get_chromosome(random.choice(parents), network_edges)\n",
    "            child = get_graph(crossover(parent1, parent2, network_edges, network), network_edges, network)\n",
    "            if validate_graph(child,network):\n",
    "                child_found = True\n",
    "        iterator +=1\n",
    "    return child\n",
    "        \n",
    "        "
   ]
  },
  {
   "cell_type": "markdown",
   "metadata": {},
   "source": [
    "### GA function"
   ]
  },
  {
   "cell_type": "code",
   "execution_count": null,
   "metadata": {},
   "outputs": [],
   "source": [
    "def GA(population, network_edges, network, n_iter = 10, max_tries = 1000):\n",
    "    print('GA algorithm started')\n",
    "    tries = 0\n",
    "    iter_no =0\n",
    "    n_childs = len(population)\n",
    "    parents = population.copy()\n",
    "    min_fitness = 100000000\n",
    "    while(iter_no < n_iter):\n",
    "        for child in parents:\n",
    "            new_fitness = fitness_function(child)\n",
    "            if new_fitness < min_fitness:\n",
    "                min_fitness = new_fitness\n",
    "                best_graph = child\n",
    "        children = []\n",
    "        while(len(children) < n_childs):\n",
    "            child = get_child(parents, network_edges, network)\n",
    "            if fitness_function(child) < min_fitness:\n",
    "                children.append(child)\n",
    "            tries +=1\n",
    "            if tries > max_tries:\n",
    "                return best_graph\n",
    "        \n",
    "        parents = children.copy()\n",
    "        print('Finished offspring generation No.{iter_no}'.format(iter_no=iter_no))\n",
    "    return best_graph\n",
    "    "
   ]
  },
  {
   "cell_type": "markdown",
   "metadata": {},
   "source": [
    "## Running GA"
   ]
  },
  {
   "cell_type": "code",
   "execution_count": null,
   "metadata": {},
   "outputs": [],
   "source": [
    "G = read_network()\n",
    "network_edges = G.edges()\n",
    "population = random_spanning_tree_generator(G, 20)\n",
    "best_graph = GA(population, network_edges, G)\n",
    "print('Best Graph Found!')"
   ]
  },
  {
   "cell_type": "code",
   "execution_count": null,
   "metadata": {},
   "outputs": [],
   "source": [
    "print(best_graph.edges())"
   ]
  }
 ],
 "metadata": {
  "kernelspec": {
   "display_name": "Python 3",
   "language": "python",
   "name": "python3"
  },
  "language_info": {
   "codemirror_mode": {
    "name": "ipython",
    "version": 3
   },
   "file_extension": ".py",
   "mimetype": "text/x-python",
   "name": "python",
   "nbconvert_exporter": "python",
   "pygments_lexer": "ipython3",
   "version": "3.7.3"
  }
 },
 "nbformat": 4,
 "nbformat_minor": 2
}
